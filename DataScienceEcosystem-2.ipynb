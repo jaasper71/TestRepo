{
 "cells": [
  {
   "cell_type": "markdown",
   "id": "f1ee3df8-cc7b-43f5-93eb-9efe2eade0ec",
   "metadata": {},
   "source": [
    "# Data Science Tools and Ecosystem"
   ]
  },
  {
   "cell_type": "markdown",
   "id": "94da7e96-ae1b-4398-bd26-b59dce2c1ae5",
   "metadata": {},
   "source": [
    "This notebook introduces Data Science Tools and Ecosystem"
   ]
  },
  {
   "cell_type": "markdown",
   "id": "37eb63b0-2f66-4301-92df-f0c9c3080262",
   "metadata": {},
   "source": [
    "Objectives:"
   ]
  },
  {
   "cell_type": "markdown",
   "id": "f8a61204-05c4-4474-b87d-59e2ab86f119",
   "metadata": {},
   "source": [
    "* Review languages used by Data Scientists\n",
    "* Review tools used by Data Scientists\n",
    "* Demonstrate simple arithmateic manipulation"
   ]
  },
  {
   "cell_type": "markdown",
   "id": "a595b7cd-1e87-417a-9154-e87209d48e63",
   "metadata": {},
   "source": [
    "Some of the popular languages that Data Scientists use are: "
   ]
  },
  {
   "cell_type": "markdown",
   "id": "0e3fe4b8-3404-4b8a-a4fd-39c5c3b7099b",
   "metadata": {},
   "source": [
    "1. Python\n",
    "2. R\n",
    "3. SQL\n",
    "4. Scala\n",
    "5. Java\n",
    "6. C++\n",
    "7. julia"
   ]
  },
  {
   "cell_type": "markdown",
   "id": "6043ab17-5c8c-459c-924b-9f341da87400",
   "metadata": {},
   "source": [
    "Commonly used data science libraries include"
   ]
  },
  {
   "cell_type": "markdown",
   "id": "99de0c50-0da3-449f-85d2-d308341f0156",
   "metadata": {},
   "source": [
    "1. dplyr\n",
    "2. stringr\n",
    "3. ggplot\n",
    "4. caret"
   ]
  },
  {
   "cell_type": "markdown",
   "id": "42360a68-7618-480d-a792-44e157239d78",
   "metadata": {},
   "source": [
    "|Data Science Tools|\n",
    "|------------------|\n",
    "|Jupyter|\n",
    "|Apache|\n",
    "|R-Studio|\n",
    "|Spyder|"
   ]
  },
  {
   "cell_type": "code",
   "execution_count": null,
   "id": "a0baca29-29ab-44b3-a078-fb0af2a8873d",
   "metadata": {},
   "outputs": [],
   "source": []
  },
  {
   "cell_type": "markdown",
   "id": "ccafe655-7ffe-4ef4-a343-c0748fa8274f",
   "metadata": {},
   "source": [
    "### Here are a few examples of evaluating arithmetic expressions using Python"
   ]
  },
  {
   "cell_type": "code",
   "execution_count": 6,
   "id": "e4d08220-c04e-4f08-b057-8a69444eedc0",
   "metadata": {},
   "outputs": [],
   "source": [
    "#\"This a simple arithmetic expression to mutiply then add integers\""
   ]
  },
  {
   "cell_type": "code",
   "execution_count": 1,
   "id": "dff862f8-afed-4931-9c9f-6ee57d91017c",
   "metadata": {},
   "outputs": [
    {
     "data": {
      "text/plain": [
       "17"
      ]
     },
     "execution_count": 1,
     "metadata": {},
     "output_type": "execute_result"
    }
   ],
   "source": [
    "(3*4)+5"
   ]
  },
  {
   "cell_type": "code",
   "execution_count": 7,
   "id": "c88d3a83-141a-49f0-863f-5e872cb3edab",
   "metadata": {},
   "outputs": [],
   "source": [
    "#\"This will convert 200 minutes to hours by diving by 60\""
   ]
  },
  {
   "cell_type": "code",
   "execution_count": 8,
   "id": "eaba0046-4a90-4656-a519-9361dd54bfbb",
   "metadata": {},
   "outputs": [
    {
     "data": {
      "text/plain": [
       "3.3333333333333335"
      ]
     },
     "execution_count": 8,
     "metadata": {},
     "output_type": "execute_result"
    }
   ],
   "source": [
    "200/60"
   ]
  },
  {
   "cell_type": "markdown",
   "id": "ef93ae53-92e6-415c-9dbb-368efae5c5e5",
   "metadata": {},
   "source": [
    "## Author"
   ]
  },
  {
   "cell_type": "markdown",
   "id": "5fd730c8-9f81-471e-9f39-5ffcfd0638cf",
   "metadata": {},
   "source": [
    "Janet A. Asper"
   ]
  },
  {
   "cell_type": "code",
   "execution_count": null,
   "id": "e251be81-be73-4db5-b518-0eb6b5f79e2e",
   "metadata": {},
   "outputs": [],
   "source": []
  }
 ],
 "metadata": {
  "kernelspec": {
   "display_name": "Python [conda env:base] *",
   "language": "python",
   "name": "conda-base-py"
  },
  "language_info": {
   "codemirror_mode": {
    "name": "ipython",
    "version": 3
   },
   "file_extension": ".py",
   "mimetype": "text/x-python",
   "name": "python",
   "nbconvert_exporter": "python",
   "pygments_lexer": "ipython3",
   "version": "3.12.7"
  }
 },
 "nbformat": 4,
 "nbformat_minor": 5
}
